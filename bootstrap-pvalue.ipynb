{
 "cells": [
  {
   "cell_type": "markdown",
   "metadata": {},
   "source": [
    "# INTRODUCTION\n",
    "\n",
    "We performed an experiment with simple recommenders.  Users were invited to use a news website.  They were divided in three groups, each with a different recommender configuration.  We wonder now if there is a recommender that leads to more clicks."
   ]
  },
  {
   "cell_type": "code",
   "execution_count": 4,
   "metadata": {},
   "outputs": [],
   "source": [
    "import json\n",
    "\n",
    "fileEvents = 'user-dump.js'\n",
    "\n",
    "import json\n",
    "from pprint import pprint\n",
    "import pandas as pd\n",
    "import matplotlib.pyplot as plt\n",
    "from collections import Counter\n",
    "import numpy as np\n",
    "import pprint\n"
   ]
  },
  {
   "cell_type": "markdown",
   "metadata": {},
   "source": [
    "# LOAD & TRANSFORM\n",
    "\n",
    "Here, we load the experimental data, and tranform it into a workable format.  The code in this section is specific for this dataset, and is not important for the evaluation of the statistical methodology.\n",
    " "
   ]
  },
  {
   "cell_type": "code",
   "execution_count": 23,
   "metadata": {},
   "outputs": [],
   "source": [
    "# Load events\n",
    "fileEvents = 'user-dumps.json'\n",
    "with open(fileEvents) as json_data:\n",
    "    events = json.load(json_data)\n",
    "    json_data.close()"
   ]
  },
  {
   "cell_type": "code",
   "execution_count": 55,
   "metadata": {
    "scrolled": true
   },
   "outputs": [],
   "source": [
    "# Create a dictionary: for each group: this dictionary has a list with the number of clicks per user.\n",
    "\n",
    "clicks_groups = {'group-1':[],\n",
    "                'group-2':[],\n",
    "                'group-3':[]}\n",
    "\n",
    "for e in range(len(events)):\n",
    "    if 'group' in events[e].keys():\n",
    "        if 'VRT' in events[e]['group'].keys():\n",
    "            if events[e]['group']['VRT'] in clicks_groups.keys():\n",
    "                group_ = events[e]['group']['VRT']\n",
    "            \n",
    "                clicks_ = 0\n",
    "                if 'articles' in events[e].keys():\n",
    "                    if 'VRT'in events[e]['articles']:\n",
    "                        clicks_ = len(events[e]['articles']['VRT'])            \n",
    "                clicks_groups[group_].append(clicks_)"
   ]
  },
  {
   "cell_type": "markdown",
   "metadata": {},
   "source": [
    "# VISUAL ANALYSIS\n"
   ]
  },
  {
   "cell_type": "markdown",
   "metadata": {},
   "source": [
    "We wonder which group has more clicks per user."
   ]
  },
  {
   "cell_type": "code",
   "execution_count": 78,
   "metadata": {},
   "outputs": [
    {
     "data": {
      "text/plain": [
       "{'group-1': 7.144578313253012,\n",
       " 'group-2': 5.828767123287672,\n",
       " 'group-3': 4.2037617554858935}"
      ]
     },
     "execution_count": 78,
     "metadata": {},
     "output_type": "execute_result"
    }
   ],
   "source": [
    "# Average clicks per group\n",
    "clicks_groups_av = {}\n",
    "for key in clicks_groups.keys():\n",
    "    clicks_groups_av[key] = np.mean(clicks_groups[key])\n",
    "    \n",
    "clicks_groups_av"
   ]
  },
  {
   "cell_type": "code",
   "execution_count": 65,
   "metadata": {},
   "outputs": [
    {
     "data": {
      "image/png": "[encoded data removed]",
      "text/plain": [
       "<Figure size 432x288 with 1 Axes>"
      ]
     },
     "metadata": {},
     "output_type": "display_data"
    }
   ],
   "source": [
    "# Plot of average clicks per group\n",
    "color = ['b','orange','g']\n",
    "plt.figure()\n",
    "plt.bar(clicks_groups_av.keys(), clicks_groups_av.values(), color=color)\n",
    "plt.ylabel('Average clicks per user')\n",
    "plt.show()"
   ]
  },
  {
   "cell_type": "code",
   "execution_count": 79,
   "metadata": {},
   "outputs": [
    {
     "data": {
      "text/plain": [
       "1.3158111899653404"
      ]
     },
     "execution_count": 79,
     "metadata": {},
     "output_type": "execute_result"
    }
   ],
   "source": [
    "clicks_groups_av['group-1']-clicks_groups_av['group-2']"
   ]
  },
  {
   "cell_type": "markdown",
   "metadata": {},
   "source": [
    "We can see that group-1 has on average more clicks than group-2.  This is our observed statistic:\n",
    "\n",
    "$$\\mu_{obs} = mean(c_1) - mean(c_2) = 1.316$$\n",
    "\n",
    "But is this difference significant?"
   ]
  },
  {
   "cell_type": "code",
   "execution_count": 77,
   "metadata": {},
   "outputs": [
    {
     "data": {
      "image/png": "[encoded data removed]",
      "text/plain": [
       "<Figure size 432x288 with 1 Axes>"
      ]
     },
     "metadata": {},
     "output_type": "display_data"
    }
   ],
   "source": [
    "# Boxplot of clicks per group\n",
    "plt.figure()\n",
    "plt.boxplot([clicks_groups[key] for key in clicks_groups.keys()])\n",
    "plt.xticks(range(1,len(clicks_groups)+1), clicks_groups.keys())\n",
    "plt.show()"
   ]
  },
  {
   "cell_type": "markdown",
   "metadata": {},
   "source": [
    "# BOOTSTRAP"
   ]
  },
  {
   "cell_type": "markdown",
   "metadata": {},
   "source": [
    "We propose the null hypothesis that on average, group-1 does not have more clicks than group-2, i.e.\n",
    "\n",
    "$$ \\text{Null hypothesis: } \\mu_{obs} <= 0 $$\n",
    "\n",
    "We will perform a bootstrap significance test as follows.  \n",
    "\n",
    "- We generate $n_b$ bootstrap samples: random samples for group-1 and group-2, that have the same size as the original groups.  Note that these have duplicates (resampling with replacement).\n",
    "\n",
    "- For each bootstrap sample, we calculate the bootstrap statistic.  In this case, this is the difference between the averages of the groups:\n",
    "\n",
    "$$\\mu_i = mean(c_{1,i}) - mean(c_{2,i})$$\n",
    "\n",
    "- We store the difference between each bootstrap statistic and the observed statistic in a list $diff$.\n",
    "\n",
    "- The p-value is the fraction of the elements of $diff$ that is larger than $\\mu_{obs}$:\n",
    "\n",
    "$$ p = \\frac{1}{n_b} \\Sigma_i (diff_i > \\mu_{obs}) $$\n",
    "\n",
    "\n",
    "In code, this becomes the following.\n",
    "\n"
   ]
  },
  {
   "cell_type": "code",
   "execution_count": 119,
   "metadata": {},
   "outputs": [
    {
     "name": "stdout",
     "output_type": "stream",
     "text": [
      "0.137\n"
     ]
    }
   ],
   "source": [
    "# Null hypothesis: mean(pop1) > mean(pop2)\n",
    "\n",
    "pop1 = clicks_groups['group-1']\n",
    "pop2 = clicks_groups['group-2']\n",
    "bootstrap_size = 1000\n",
    "\n",
    "\n",
    "# Observed statistic\n",
    "stat_obs = (np.mean(pop1) - np.mean(pop2))\n",
    "\n",
    "\n",
    "# Bootstrap sampling\n",
    "diff = []\n",
    "for b in range(bootstrap_size):\n",
    "    sample1 = np.random.choice(pop1, len(pop1))\n",
    "    sample2 = np.random.choice(pop2, len(pop2))\n",
    "    stat_bootstrap = (np.mean(sample1) - np.mean(sample2))\n",
    "    diff.append(stat_bootstrap - stat_obs)\n",
    "\n",
    "    \n",
    "# pvalue\n",
    "pvalue = np.sum(diff > stat_obs)/bootstrap_size\n",
    "print(pvalue)"
   ]
  },
  {
   "cell_type": "markdown",
   "metadata": {},
   "source": [
    "The exact p-value depends on the random resampling, but usually we have a p-value larger than 0.1.  This means that the difference is not significant, and that we cannot reject the null hypothesis based on this dataset.\n"
   ]
  },
  {
   "cell_type": "markdown",
   "metadata": {},
   "source": [
    "# FURTHER TESTING\n",
    "\n",
    "We want to do more experiments, and it would be handy to have all the details for the calculation of the p-value in a function."
   ]
  },
  {
   "cell_type": "code",
   "execution_count": 121,
   "metadata": {},
   "outputs": [],
   "source": [
    "def pvalue(pop1, pop2, bootstrap_size = 1000):\n",
    "    # Null hypothesis: mean(pop1) > mean(pop2)\n",
    "    \n",
    "    # Observed statistic\n",
    "    stat_obs = (np.mean(pop1) - np.mean(pop2))\n",
    "\n",
    "    # Bootstrap sampling\n",
    "    stat_bootstrap = []\n",
    "    for b in range(bootstrap_size):\n",
    "        sample1 = np.random.choice(pop1, len(pop1))\n",
    "        sample2 = np.random.choice(pop2, len(pop2))\n",
    "        stat_bootstrap.append((np.mean(sample1) - np.mean(sample2)) - stat_obs)\n",
    "\n",
    "    # pvalue\n",
    "    return np.sum(stat_bootstrap > stat_obs)/bootstrap_size\n"
   ]
  },
  {
   "cell_type": "markdown",
   "metadata": {},
   "source": [
    "Let's try this function, to see if group-1 has significantly more clicks than group-3."
   ]
  },
  {
   "cell_type": "code",
   "execution_count": 122,
   "metadata": {},
   "outputs": [
    {
     "data": {
      "text/plain": [
       "0.004"
      ]
     },
     "execution_count": 122,
     "metadata": {},
     "output_type": "execute_result"
    }
   ],
   "source": [
    "pvalue(pop1 = clicks_groups['group-1'], \n",
    "       pop2 = clicks_groups['group-3'], \n",
    "       bootstrap_size = 1000)\n"
   ]
  },
  {
   "cell_type": "markdown",
   "metadata": {},
   "source": [
    "Yay!  There are significantly more clicks in group-1 than in group-3. "
   ]
  },
  {
   "cell_type": "code",
   "execution_count": null,
   "metadata": {},
   "outputs": [],
   "source": []
  }
 ],
 "metadata": {
  "kernelspec": {
   "display_name": "Python 3",
   "language": "python",
   "name": "python3"
  },
  "language_info": {
   "codemirror_mode": {
    "name": "ipython",
    "version": 3
   },
   "file_extension": ".py",
   "mimetype": "text/x-python",
   "name": "python",
   "nbconvert_exporter": "python",
   "pygments_lexer": "ipython3",
   "version": "3.6.5"
  }
 },
 "nbformat": 4,
 "nbformat_minor": 2
}
